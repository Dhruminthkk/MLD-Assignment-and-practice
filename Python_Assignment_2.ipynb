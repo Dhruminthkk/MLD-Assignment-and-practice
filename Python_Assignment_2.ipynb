{
  "nbformat": 4,
  "nbformat_minor": 0,
  "metadata": {
    "colab": {
      "name": "Python Assignment 2.ipynb",
      "provenance": []
    },
    "kernelspec": {
      "name": "python3",
      "display_name": "Python 3"
    }
  },
  "cells": [
    {
      "cell_type": "markdown",
      "metadata": {
        "id": "sX_YO-Oafhxy",
        "colab_type": "text"
      },
      "source": [
        "**Q-1) Create the below pattern using nested for loop in Python.**\n",
        "\n"
      ]
    },
    {
      "cell_type": "code",
      "metadata": {
        "id": "iFssAk3kiOyh",
        "colab_type": "code",
        "colab": {
          "base_uri": "https://localhost:8080/",
          "height": 170
        },
        "outputId": "9e309241-a4c4-4514-b7c1-79f6b3ddd16a"
      },
      "source": [
        "# Method one\n",
        "for i in range(1,10):\n",
        "  if i<=5:\n",
        "    print(\"* \"*i)\n",
        "  else:\n",
        "    print(\"* \"*(10-i))\n"
      ],
      "execution_count": 1,
      "outputs": [
        {
          "output_type": "stream",
          "text": [
            "* \n",
            "* * \n",
            "* * * \n",
            "* * * * \n",
            "* * * * * \n",
            "* * * * \n",
            "* * * \n",
            "* * \n",
            "* \n"
          ],
          "name": "stdout"
        }
      ]
    },
    {
      "cell_type": "code",
      "metadata": {
        "id": "Y8wT990HeJbB",
        "colab_type": "code",
        "colab": {
          "base_uri": "https://localhost:8080/",
          "height": 323
        },
        "outputId": "e24a2240-a16b-41b9-a5a6-9af4a452d656"
      },
      "source": [
        "#Method two\n",
        "for i in range(1,6):\n",
        "  \n",
        "  for j in range(1,6):\n",
        "    if(j<=i):\n",
        "      print(\"*\",end=\" \")\n",
        "  print(\"\\n\")\n",
        "\n",
        "for i in range(4,0,-1):\n",
        "  \n",
        "  for j in range(4,0,-1):\n",
        "    if(j<=i):\n",
        "      print(\"*\",end=\" \")\n",
        "  print(\"\\n\")"
      ],
      "execution_count": 2,
      "outputs": [
        {
          "output_type": "stream",
          "text": [
            "* \n",
            "\n",
            "* * \n",
            "\n",
            "* * * \n",
            "\n",
            "* * * * \n",
            "\n",
            "* * * * * \n",
            "\n",
            "* * * * \n",
            "\n",
            "* * * \n",
            "\n",
            "* * \n",
            "\n",
            "* \n",
            "\n"
          ],
          "name": "stdout"
        }
      ]
    },
    {
      "cell_type": "markdown",
      "metadata": {
        "id": "pJy8CXx2jTJT",
        "colab_type": "text"
      },
      "source": [
        "**Q-2) Write a Python program to reverse a word after accepting the input from the user.**"
      ]
    },
    {
      "cell_type": "code",
      "metadata": {
        "id": "HI94JQHLjcx8",
        "colab_type": "code",
        "colab": {
          "base_uri": "https://localhost:8080/",
          "height": 51
        },
        "outputId": "c7e708db-13e6-499b-8d5b-28f93a970d69"
      },
      "source": [
        "word = input(\"Input word: \")\n",
        "print(\"Output: \"+ word[::-1])"
      ],
      "execution_count": 3,
      "outputs": [
        {
          "output_type": "stream",
          "text": [
            "Input word: Sherlock\n",
            "Output: kcolrehS\n"
          ],
          "name": "stdout"
        }
      ]
    }
  ]
}