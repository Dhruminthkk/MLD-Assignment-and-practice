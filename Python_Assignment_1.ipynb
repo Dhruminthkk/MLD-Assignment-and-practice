{
  "nbformat": 4,
  "nbformat_minor": 0,
  "metadata": {
    "colab": {
      "name": "Python Assignment 1.ipynb",
      "provenance": []
    },
    "kernelspec": {
      "name": "python3",
      "display_name": "Python 3"
    }
  },
  "cells": [
    {
      "cell_type": "markdown",
      "metadata": {
        "id": "jHEtDZNqMx5S",
        "colab_type": "text"
      },
      "source": [
        "**Q-1) Write a program which will find all such numbers which are divisible by 7 but are not a multiple of 5, between 2000 and 3200 (both included). The numbers obtained should be printed in a comma-separated sequence on a single line.**"
      ]
    },
    {
      "cell_type": "code",
      "metadata": {
        "id": "9hwdZ0HdLwW2",
        "colab_type": "code",
        "colab": {
          "base_uri": "https://localhost:8080/",
          "height": 54
        },
        "outputId": "cf36bf36-e44c-435f-e708-027bccb41d77"
      },
      "source": [
        "print(\", \".join([str(i) for i in range(2000,3201) if (i%7==0 and i%5!=0)]))"
      ],
      "execution_count": 1,
      "outputs": [
        {
          "output_type": "stream",
          "text": [
            "2002, 2009, 2016, 2023, 2037, 2044, 2051, 2058, 2072, 2079, 2086, 2093, 2107, 2114, 2121, 2128, 2142, 2149, 2156, 2163, 2177, 2184, 2191, 2198, 2212, 2219, 2226, 2233, 2247, 2254, 2261, 2268, 2282, 2289, 2296, 2303, 2317, 2324, 2331, 2338, 2352, 2359, 2366, 2373, 2387, 2394, 2401, 2408, 2422, 2429, 2436, 2443, 2457, 2464, 2471, 2478, 2492, 2499, 2506, 2513, 2527, 2534, 2541, 2548, 2562, 2569, 2576, 2583, 2597, 2604, 2611, 2618, 2632, 2639, 2646, 2653, 2667, 2674, 2681, 2688, 2702, 2709, 2716, 2723, 2737, 2744, 2751, 2758, 2772, 2779, 2786, 2793, 2807, 2814, 2821, 2828, 2842, 2849, 2856, 2863, 2877, 2884, 2891, 2898, 2912, 2919, 2926, 2933, 2947, 2954, 2961, 2968, 2982, 2989, 2996, 3003, 3017, 3024, 3031, 3038, 3052, 3059, 3066, 3073, 3087, 3094, 3101, 3108, 3122, 3129, 3136, 3143, 3157, 3164, 3171, 3178, 3192, 3199\n"
          ],
          "name": "stdout"
        }
      ]
    },
    {
      "cell_type": "markdown",
      "metadata": {
        "id": "SF5j9hHnPmLc",
        "colab_type": "text"
      },
      "source": [
        "**Q-2) Write a Python program to accept the user's first and last name and then getting them printed in the the reverse order with a space between first name and last name.**"
      ]
    },
    {
      "cell_type": "code",
      "metadata": {
        "id": "h5HI-drvNCmk",
        "colab_type": "code",
        "colab": {
          "base_uri": "https://localhost:8080/",
          "height": 68
        },
        "outputId": "9004d3f6-8bc5-4107-a737-2b3d8ac5697b"
      },
      "source": [
        "fName = input(\"Enter First Name : \")\n",
        "lName = input(\"Enter Last Name : \")\n",
        "\n",
        "fullName = fName + \" \" + lName\n",
        "print(\"Name in reverse : \"+ fullName[::-1])"
      ],
      "execution_count": 2,
      "outputs": [
        {
          "output_type": "stream",
          "text": [
            "Enter First Name : Dhrumin\n",
            "Enter Last Name : Thakkar\n",
            "Name in reverse : rakkahT nimurhD\n"
          ],
          "name": "stdout"
        }
      ]
    },
    {
      "cell_type": "markdown",
      "metadata": {
        "id": "41BcqFShRzm9",
        "colab_type": "text"
      },
      "source": [
        "**Q-3) Write a Python program to find the volume of a sphere with diameter 12 cm.**\n"
      ]
    },
    {
      "cell_type": "code",
      "metadata": {
        "id": "u5y0J_XVQvsx",
        "colab_type": "code",
        "colab": {
          "base_uri": "https://localhost:8080/",
          "height": 34
        },
        "outputId": "d0f3d113-f5cc-4aec-ad68-7fc0a8e3a192"
      },
      "source": [
        "# Formula: V=4/3 * π * r**3\n",
        "\n",
        "import math\n",
        "PI = math.pi\n",
        "diameter = 12\n",
        "radius = diameter/2\n",
        "\n",
        "volume = (4/3)*PI*radius**3\n",
        "\n",
        "print(\"Volume of sphere = \" + str(volume))"
      ],
      "execution_count": 3,
      "outputs": [
        {
          "output_type": "stream",
          "text": [
            "Volume of sphere = 904.7786842338603\n"
          ],
          "name": "stdout"
        }
      ]
    }
  ]
}